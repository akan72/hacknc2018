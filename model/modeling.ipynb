{
 "cells": [
  {
   "cell_type": "code",
   "execution_count": 144,
   "metadata": {},
   "outputs": [
    {
     "name": "stdout",
     "output_type": "stream",
     "text": [
      "[nltk_data] Downloading package stopwords to\n",
      "[nltk_data]     C:\\Users\\lexokan\\AppData\\Roaming\\nltk_data...\n",
      "[nltk_data]   Package stopwords is already up-to-date!\n"
     ]
    }
   ],
   "source": [
    "import lyricsgenius as genius\n",
    "import nltk \n",
    "nltk.download('stopwords')\n",
    "\n",
    "from utils import scraping_lite\n",
    "from sklearn.naive_bayes import GaussianNB\n",
    "import spacy\n",
    "\n",
    "import pandas as pd\n",
    "import numpy as np \n",
    "\n",
    "import matplotlib.pyplot as plt\n",
    "%matplotlib inline"
   ]
  },
  {
   "cell_type": "code",
   "execution_count": 188,
   "metadata": {},
   "outputs": [],
   "source": [
    "# Read in genius lyrics data \n",
    "lyrics = pd.read_csv(\"../data/lyrics.csv\")\n",
    "\n",
    "# Parse all of the songs from genius \n",
    "train = []\n",
    "for i in np.arange(len(lyrics)): \n",
    "    train.append(scraping_lite.parseLyrics(lyrics.iloc[i, 1]))\n",
    "\n",
    "# Parse Indoor Cats lyrics a\n",
    "circuits =  open('../data/indoorCats/circuits.txt', 'r').read()\n",
    "fun2 = open('../data/indoorCats/fun2.txt', 'r').read()\n",
    "isthmus = open('../data/indoorCats/isthmus.txt', 'r').read()\n",
    "itsPossibleGirl =  open('../data/indoorCats/itsPossibleGirl.txt', 'r').read()\n",
    "pendulum = open('../data/indoorCats/pendulum.txt', 'r').read()\n",
    "subway = open('../data/indoorCats/subway.txt', 'r').read()\n",
    "summerIntl = open('../data/indoorCats/summerIntl.txt', 'r').read()    \n",
    "twister = open('../data/indoorCats/twister.txt', 'r').read()"
   ]
  },
  {
   "cell_type": "code",
   "execution_count": 191,
   "metadata": {},
   "outputs": [],
   "source": [
    "# Unite sets for global word counts \n",
    "allWords = set() \n",
    "for i in np.arange(len(train)):\n",
    "    allWords = allWords.union(train[i])"
   ]
  },
  {
   "cell_type": "code",
   "execution_count": 197,
   "metadata": {},
   "outputs": [
    {
     "name": "stdout",
     "output_type": "stream",
     "text": [
      "<bound method Counter.most_common of FreqDist({'gals': 2, 'Ragtime': 1})>\n"
     ]
    }
   ],
   "source": [
    "# Find frequency for each song \n",
    "print(nltk.FreqDist(['Ragtime', 'gals', 'gals']).mosnt_common)"
   ]
  },
  {
   "cell_type": "code",
   "execution_count": 44,
   "metadata": {},
   "outputs": [],
   "source": [
    "# Encoding Features \n",
    "labels = {'rock' : 0, 'latin' : 1, 'hiphop' : 2, 'country' : 3, 'punk' : 4}\n",
    "\n",
    "X = np.array([[-1, -1], [-2, -1], [-3, -2], [1, 1], [2, 1], [3, 2]])\n",
    "Y = np.array([1, 1, 1, 2, 2, 2])"
   ]
  },
  {
   "cell_type": "code",
   "execution_count": 12,
   "metadata": {},
   "outputs": [
    {
     "data": {
      "text/plain": [
       "array([2])"
      ]
     },
     "execution_count": 12,
     "metadata": {},
     "output_type": "execute_result"
    }
   ],
   "source": [
    "clf = GaussianNB(priors=None, var_smoothing=1e-09)\n",
    "clf.fit(X, Y)\n",
    "clf.predict([[21, 1.]])\n",
    "\n",
    "#clf_pf = GaussianNB()\n",
    "#clf_pf.partial_fit(X, Y, np.unique(Y))\n",
    "#GaussianNB(priors=None, var_smoothing=1e-09)\n",
    "#print(clf_pf.predict([[-0.8, -1]]))"
   ]
  }
 ],
 "metadata": {
  "kernelspec": {
   "display_name": "Python 3",
   "language": "python",
   "name": "python3"
  },
  "language_info": {
   "codemirror_mode": {
    "name": "ipython",
    "version": 3
   },
   "file_extension": ".py",
   "mimetype": "text/x-python",
   "name": "python",
   "nbconvert_exporter": "python",
   "pygments_lexer": "ipython3",
   "version": "3.5.4"
  }
 },
 "nbformat": 4,
 "nbformat_minor": 2
}
