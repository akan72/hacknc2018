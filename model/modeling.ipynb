{
 "cells": [
  {
   "cell_type": "code",
   "execution_count": 56,
   "metadata": {},
   "outputs": [
    {
     "ename": "ImportError",
     "evalue": "cannot import name 'parseLyrics'",
     "output_type": "error",
     "traceback": [
      "\u001b[1;31m---------------------------------------------------------------------------\u001b[0m",
      "\u001b[1;31mImportError\u001b[0m                               Traceback (most recent call last)",
      "\u001b[1;32m<ipython-input-56-5aa5219c7b40>\u001b[0m in \u001b[0;36m<module>\u001b[1;34m()\u001b[0m\n\u001b[0;32m      2\u001b[0m \u001b[0msys\u001b[0m\u001b[1;33m.\u001b[0m\u001b[0mpath\u001b[0m\u001b[1;33m.\u001b[0m\u001b[0mappend\u001b[0m\u001b[1;33m(\u001b[0m\u001b[1;34m'../scraping'\u001b[0m\u001b[1;33m)\u001b[0m\u001b[1;33m\u001b[0m\u001b[0m\n\u001b[0;32m      3\u001b[0m \u001b[1;33m\u001b[0m\u001b[0m\n\u001b[1;32m----> 4\u001b[1;33m \u001b[1;32mfrom\u001b[0m \u001b[0mscraping\u001b[0m \u001b[1;32mimport\u001b[0m \u001b[0mparseLyrics\u001b[0m\u001b[1;33m\u001b[0m\u001b[0m\n\u001b[0m\u001b[0;32m      5\u001b[0m \u001b[1;32mfrom\u001b[0m \u001b[0msklearn\u001b[0m\u001b[1;33m.\u001b[0m\u001b[0mnaive_bayes\u001b[0m \u001b[1;32mimport\u001b[0m \u001b[0mGaussianNB\u001b[0m\u001b[1;33m\u001b[0m\u001b[0m\n\u001b[0;32m      6\u001b[0m \u001b[1;32mimport\u001b[0m \u001b[0mspacy\u001b[0m\u001b[1;33m\u001b[0m\u001b[0m\n",
      "\u001b[1;31mImportError\u001b[0m: cannot import name 'parseLyrics'"
     ]
    }
   ],
   "source": [
    "import sys\n",
    "sys.path.append('../scraping')\n",
    "\n",
    "from scraping import parseLyrics\n",
    "from sklearn.naive_bayes import GaussianNB\n",
    "import spacy\n",
    "import nltk \n",
    "\n",
    "import lyricsgenius as genius\n",
    "\n",
    "import pandas as pd\n",
    "import numpy as np \n",
    "\n",
    "import matplotlib.pyplot as plt\n",
    "%matplotlib inline"
   ]
  },
  {
   "cell_type": "code",
   "execution_count": 51,
   "metadata": {},
   "outputs": [],
   "source": [
    "# Determine word counts w\n",
    "lyrics = pd.read_csv(\"../data/lyrics.csv\")\n",
    "#print(nltk.FreqDist(['Ragtime', 'gals']).most_common)"
   ]
  },
  {
   "cell_type": "code",
   "execution_count": 58,
   "metadata": {},
   "outputs": [
    {
     "data": {
      "text/plain": [
       "0      [Verse 1]\\r\\nGood morning my love\\r\\nIt's been...\n",
       "1      [Verse 1]\\r\\nGood morning, my love\\r\\nIt's bee...\n",
       "2      [Verse 1]\\r\\nEverything you say is just a lie ...\n",
       "3      [Verse 1]\\r\\nI get caught in the water, get to...\n",
       "4      [Verse 1]\\r\\nIs this just an illusion\\r\\nThat ...\n",
       "5      [Verse 1]\\r\\nI don't have to feel good\\r\\nI ju...\n",
       "6      [Chorus]\\r\\nI like that you're broken\\r\\nBroke...\n",
       "7      [Verse 1]\\r\\nI miss when I saw your face\\r\\nDr...\n",
       "8      I can make you happy for a while\\r\\nSmile for ...\n",
       "9      [Verse 1]\\r\\nWe can catch up for coffee\\r\\nAnd...\n",
       "10     [The Only Difference Between Martyrdom and Sui...\n",
       "11     [Verse 1]\\r\\nShe don't leave make-up\\r\\nAfter ...\n",
       "12     [Verse 1]\\r\\nWhen the world gets too heavy\\r\\n...\n",
       "13     [Intro]\\r\\nCovered up his smile\\r\\n(?)\\r\\nArou...\n",
       "14     1. \"Say Amen (Saturday Night)\"\\r\\n2. \"Emperor'...\n",
       "15     [Verse 1]\\r\\nAnd after the storm\\r\\nI run and ...\n",
       "16     [Ben Lovett]\\r\\nThere won’t be any Mumford & S...\n",
       "17     [Verse 1]\\r\\nHow fickle my heart and how woozy...\n",
       "18     How fickle my heart and how woozy my eyes\\r\\nI...\n",
       "19     How fickle my heart and how woozy my eyes\\r\\nI...\n",
       "20     [Verse 1]\\r\\nGone, separate me from this loss ...\n",
       "21     I'm at the bottom, can you come let me up\\r\\nC...\n",
       "22     You know that blame shit gettin' old\\r\\nYou ke...\n",
       "23     [Verse 1]\\r\\nSlave away, it's just another day...\n",
       "24     They're gonna take this\\r\\nStrumming along ham...\n",
       "25     [Verse 1]\\r\\nI'm writing you to catch you up o...\n",
       "26     I'm writing you to catch you up on places I've...\n",
       "27     I'm writing you to catch you up on places I've...\n",
       "28     [Verse 1]\\r\\nI've these dreams I'm walking hom...\n",
       "29     I've these dreams of walking home\\r\\nHome wher...\n",
       "                             ...                        \n",
       "265    I was a player\\r\\nSo good at bad behaviour\\r\\n...\n",
       "266    Here's to the maker\\r\\nThe film double taker\\r...\n",
       "267    Don't care what they may say\\r\\nWe got that at...\n",
       "268    Banned in D.C. with a thousand more places to ...\n",
       "269    No one dared to show for that shower\\r\\nWhen n...\n",
       "270    Some clown in Sacramento was dragged into cour...\n",
       "271    Have we got a telethon for you coming soon on ...\n",
       "272    Why are such a stupid asshole?\\r\\nWould you re...\n",
       "273    In lonely gas stations with mini-marts\\r\\nYou'...\n",
       "274    Step right up, folks!\\r\\n\\r\\nAnarchy for sale\\...\n",
       "275    White Stones, Queens 1974\\r\\nFathers talking s...\n",
       "276    There's a place where I like to go\\r\\nWhen I g...\n",
       "277    I want to go where the action is\\r\\nI want to ...\n",
       "278    [Chorus]\\r\\nAll American neighborhood\\r\\nAll A...\n",
       "279    Well I drank from Tahweh's songs and I dined o...\n",
       "280    [Verse 1]\\r\\nYou were the one, you were my eve...\n",
       "281    [Verse 1]\\r\\nI heard them say that the meek sh...\n",
       "282    Parched cracked mouths, empty swollen guts\\r\\n...\n",
       "283    I can't believe it, the way you look sometimes...\n",
       "284    [Verse 1]\\r\\nI can't believe it, the way you l...\n",
       "285    18 Soldiers five days away\\r\\nCaged in silence...\n",
       "286    30 Seconds till the end of the world\\r\\nWe'll ...\n",
       "287    This is no way to live a life\\r\\nThe urban pla...\n",
       "288    Take a listen to what I say\\r\\nI got the truth...\n",
       "289    Everyday convince myself of everything I can a...\n",
       "290    Fighting with gloves\\r\\nNow we're the ones a h...\n",
       "291    The first time I saw The Descendents\\r\\nThey w...\n",
       "292    The first time I saw the Descendents\\r\\nThey w...\n",
       "293    It's so easy to defend the Status Quo\\r\\nWith ...\n",
       "294    I'm not here to entertain you\\r\\nI'm here to m...\n",
       "Name: 0, Length: 295, dtype: object"
      ]
     },
     "execution_count": 58,
     "metadata": {},
     "output_type": "execute_result"
    }
   ],
   "source": [
    "lyrics.iloc[:, 1]\n"
   ]
  },
  {
   "cell_type": "code",
   "execution_count": 14,
   "metadata": {},
   "outputs": [],
   "source": [
    "# Encoding Features \n",
    "labels = {'rock' : 0, 'latin' : 1, 'hiphop' : 2, 'country' : 3, 'punk' : 4}\n",
    "\n",
    "X = np.array([[-1, -1], [-2, -1], [-3, -2], [1, 1], [2, 1], [3, 2]])\n",
    "Y = np.array([1, 1, 1, 2, 2, 2])"
   ]
  },
  {
   "cell_type": "code",
   "execution_count": 12,
   "metadata": {},
   "outputs": [
    {
     "data": {
      "text/plain": [
       "array([2])"
      ]
     },
     "execution_count": 12,
     "metadata": {},
     "output_type": "execute_result"
    }
   ],
   "source": [
    "clf = GaussianNB(priors=None, var_smoothing=1e-09)\n",
    "clf.fit(X, Y)\n",
    "clf.predict([[21, 1.]])\n",
    "\n",
    "#clf_pf = GaussianNB()\n",
    "#clf_pf.partial_fit(X, Y, np.unique(Y))\n",
    "#GaussianNB(priors=None, var_smoothing=1e-09)\n",
    "#print(clf_pf.predict([[-0.8, -1]]))"
   ]
  }
 ],
 "metadata": {
  "kernelspec": {
   "display_name": "Python 3",
   "language": "python",
   "name": "python3"
  },
  "language_info": {
   "codemirror_mode": {
    "name": "ipython",
    "version": 3
   },
   "file_extension": ".py",
   "mimetype": "text/x-python",
   "name": "python",
   "nbconvert_exporter": "python",
   "pygments_lexer": "ipython3",
   "version": "3.5.4"
  }
 },
 "nbformat": 4,
 "nbformat_minor": 2
}
