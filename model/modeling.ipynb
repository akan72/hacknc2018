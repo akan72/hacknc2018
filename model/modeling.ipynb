{
 "cells": [
  {
   "cell_type": "code",
   "execution_count": 45,
   "metadata": {},
   "outputs": [
    {
     "name": "stdout",
     "output_type": "stream",
     "text": [
      "[nltk_data] Downloading package stopwords to\n",
      "[nltk_data]     C:\\Users\\lexokan\\AppData\\Roaming\\nltk_data...\n",
      "[nltk_data]   Package stopwords is already up-to-date!\n"
     ]
    }
   ],
   "source": [
    "import sys\n",
    "sys.path.append('../scraping')\n",
    "\n",
    "import lyricsgenius as genius\n",
    "import nltk \n",
    "nltk.download('stopwords')\n",
    "\n",
    "from utils import parser\n",
    "from sklearn.naive_bayes import GaussianNB\n",
    "import spacy\n",
    "\n",
    "\n",
    "\n",
    "import pandas as pd\n",
    "import numpy as np \n",
    "\n",
    "import matplotlib.pyplot as plt\n",
    "%matplotlib inline"
   ]
  },
  {
   "cell_type": "code",
   "execution_count": 79,
   "metadata": {},
   "outputs": [],
   "source": [
    "# Determine word counts w\n",
    "lyrics = pd.read_csv(\"../data/lyrics.csv\")\n",
    "#print(nltk.FreqDist(['Ragtime', 'gals']).most_common)"
   ]
  },
  {
   "cell_type": "code",
   "execution_count": null,
   "metadata": {},
   "outputs": [],
   "source": [
    "lyricsList = []\n",
    "for i in np.arange(len(lyrics)):\n",
    "    \n",
    "    "
   ]
  },
  {
   "cell_type": "code",
   "execution_count": 61,
   "metadata": {
    "scrolled": false
   },
   "outputs": [],
   "source": [
    "#print(lyrics.iloc[0, 1])\n",
    "for i in np.arange(len(lyricsList)):\n",
    "    lyricsList[i] = parser.parseLyrics(lyricsList[i])"
   ]
  },
  {
   "cell_type": "code",
   "execution_count": 66,
   "metadata": {},
   "outputs": [
    {
     "name": "stdout",
     "output_type": "stream",
     "text": [
      "set()\n"
     ]
    }
   ],
   "source": [
    "print(lyricsList[8])"
   ]
  },
  {
   "cell_type": "code",
   "execution_count": 44,
   "metadata": {},
   "outputs": [],
   "source": [
    "# Encoding Features \n",
    "labels = {'rock' : 0, 'latin' : 1, 'hiphop' : 2, 'country' : 3, 'punk' : 4}\n",
    "\n",
    "X = np.array([[-1, -1], [-2, -1], [-3, -2], [1, 1], [2, 1], [3, 2]])\n",
    "Y = np.array([1, 1, 1, 2, 2, 2])"
   ]
  },
  {
   "cell_type": "code",
   "execution_count": 12,
   "metadata": {},
   "outputs": [
    {
     "data": {
      "text/plain": [
       "array([2])"
      ]
     },
     "execution_count": 12,
     "metadata": {},
     "output_type": "execute_result"
    }
   ],
   "source": [
    "clf = GaussianNB(priors=None, var_smoothing=1e-09)\n",
    "clf.fit(X, Y)\n",
    "clf.predict([[21, 1.]])\n",
    "\n",
    "#clf_pf = GaussianNB()\n",
    "#clf_pf.partial_fit(X, Y, np.unique(Y))\n",
    "#GaussianNB(priors=None, var_smoothing=1e-09)\n",
    "#print(clf_pf.predict([[-0.8, -1]]))"
   ]
  }
 ],
 "metadata": {
  "kernelspec": {
   "display_name": "Python 3",
   "language": "python",
   "name": "python3"
  },
  "language_info": {
   "codemirror_mode": {
    "name": "ipython",
    "version": 3
   },
   "file_extension": ".py",
   "mimetype": "text/x-python",
   "name": "python",
   "nbconvert_exporter": "python",
   "pygments_lexer": "ipython3",
   "version": "3.5.4"
  }
 },
 "nbformat": 4,
 "nbformat_minor": 2
}
