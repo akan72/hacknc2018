{
 "cells": [
  {
   "cell_type": "code",
   "execution_count": 2,
   "metadata": {},
   "outputs": [],
   "source": [
    "import io\n",
    "\n",
    "from sklearn.naive_bayes import GaussianNB\n",
    "import spacy\n",
    "import nltk \n",
    "\n",
    "import lyricsgenius as genius\n",
    "\n",
    "import pandas as pd\n",
    "import numpy as np \n",
    "\n",
    "import matplotlib.pyplot as plt\n",
    "%matplotlib inline"
   ]
  },
  {
   "cell_type": "code",
   "execution_count": 16,
   "metadata": {},
   "outputs": [
    {
     "name": "stdout",
     "output_type": "stream",
     "text": [
      "<bound method NDFrame.head of      Unnamed: 0                                                  0     1\n",
      "0             0  [Verse 1]\\r\\nGood morning my love\\r\\nIt's been...  rock\n",
      "1             1  [Verse 1]\\r\\nGood morning, my love\\r\\nIt's bee...  rock\n",
      "2             2  [Verse 1]\\r\\nEverything you say is just a lie ...  rock\n",
      "3             3  [Verse 1]\\r\\nI get caught in the water, get to...  rock\n",
      "4             4  [Verse 1]\\r\\nIs this just an illusion\\r\\nThat ...  rock\n",
      "5             5  [Verse 1]\\r\\nI don't have to feel good\\r\\nI ju...  rock\n",
      "6             6  [Chorus]\\r\\nI like that you're broken\\r\\nBroke...  rock\n",
      "7             7  [Verse 1]\\r\\nI miss when I saw your face\\r\\nDr...  rock\n",
      "8             8  I can make you happy for a while\\r\\nSmile for ...  rock\n",
      "9             9  [Verse 1]\\r\\nWe can catch up for coffee\\r\\nAnd...  rock\n",
      "10           10  [The Only Difference Between Martyrdom and Sui...  rock\n",
      "11           11  [Verse 1]\\r\\nShe don't leave make-up\\r\\nAfter ...  rock\n",
      "12           12  [Verse 1]\\r\\nWhen the world gets too heavy\\r\\n...  rock\n",
      "13           13  [Intro]\\r\\nCovered up his smile\\r\\n(?)\\r\\nArou...  rock\n",
      "14           14  1. \"Say Amen (Saturday Night)\"\\r\\n2. \"Emperor'...  rock\n",
      "15           15  [Verse 1]\\r\\nAnd after the storm\\r\\nI run and ...  rock\n",
      "16           16  [Ben Lovett]\\r\\nThere won’t be any Mumford & S...  rock\n",
      "17           17  [Verse 1]\\r\\nHow fickle my heart and how woozy...  rock\n",
      "18           18  How fickle my heart and how woozy my eyes\\r\\nI...  rock\n",
      "19           19  How fickle my heart and how woozy my eyes\\r\\nI...  rock\n",
      "20           20  [Verse 1]\\r\\nGone, separate me from this loss ...  rock\n",
      "21           21  I'm at the bottom, can you come let me up\\r\\nC...  rock\n",
      "22           22  You know that blame shit gettin' old\\r\\nYou ke...  rock\n",
      "23           23  [Verse 1]\\r\\nSlave away, it's just another day...  rock\n",
      "24           24  They're gonna take this\\r\\nStrumming along ham...  rock\n",
      "25           25  [Verse 1]\\r\\nI'm writing you to catch you up o...  rock\n",
      "26           26  I'm writing you to catch you up on places I've...  rock\n",
      "27           27  I'm writing you to catch you up on places I've...  rock\n",
      "28           28  [Verse 1]\\r\\nI've these dreams I'm walking hom...  rock\n",
      "29           29  I've these dreams of walking home\\r\\nHome wher...  rock\n",
      "..          ...                                                ...   ...\n",
      "265         265  I was a player\\r\\nSo good at bad behaviour\\r\\n...  punk\n",
      "266         266  Here's to the maker\\r\\nThe film double taker\\r...  punk\n",
      "267         267  Don't care what they may say\\r\\nWe got that at...  punk\n",
      "268         268  Banned in D.C. with a thousand more places to ...  punk\n",
      "269         269  No one dared to show for that shower\\r\\nWhen n...  punk\n",
      "270         270  Some clown in Sacramento was dragged into cour...  punk\n",
      "271         271  Have we got a telethon for you coming soon on ...  punk\n",
      "272         272  Why are such a stupid asshole?\\r\\nWould you re...  punk\n",
      "273         273  In lonely gas stations with mini-marts\\r\\nYou'...  punk\n",
      "274         274  Step right up, folks!\\r\\n\\r\\nAnarchy for sale\\...  punk\n",
      "275         275  White Stones, Queens 1974\\r\\nFathers talking s...  punk\n",
      "276         276  There's a place where I like to go\\r\\nWhen I g...  punk\n",
      "277         277  I want to go where the action is\\r\\nI want to ...  punk\n",
      "278         278  [Chorus]\\r\\nAll American neighborhood\\r\\nAll A...  punk\n",
      "279         279  Well I drank from Tahweh's songs and I dined o...  punk\n",
      "280         280  [Verse 1]\\r\\nYou were the one, you were my eve...  punk\n",
      "281         281  [Verse 1]\\r\\nI heard them say that the meek sh...  punk\n",
      "282         282  Parched cracked mouths, empty swollen guts\\r\\n...  punk\n",
      "283         283  I can't believe it, the way you look sometimes...  punk\n",
      "284         284  [Verse 1]\\r\\nI can't believe it, the way you l...  punk\n",
      "285         285  18 Soldiers five days away\\r\\nCaged in silence...  punk\n",
      "286         286  30 Seconds till the end of the world\\r\\nWe'll ...  punk\n",
      "287         287  This is no way to live a life\\r\\nThe urban pla...  punk\n",
      "288         288  Take a listen to what I say\\r\\nI got the truth...  punk\n",
      "289         289  Everyday convince myself of everything I can a...  punk\n",
      "290         290  Fighting with gloves\\r\\nNow we're the ones a h...  punk\n",
      "291         291  The first time I saw The Descendents\\r\\nThey w...  punk\n",
      "292         292  The first time I saw the Descendents\\r\\nThey w...  punk\n",
      "293         293  It's so easy to defend the Status Quo\\r\\nWith ...  punk\n",
      "294         294  I'm not here to entertain you\\r\\nI'm here to m...  punk\n",
      "\n",
      "[295 rows x 3 columns]>\n"
     ]
    }
   ],
   "source": [
    "# Determine word counts w\n",
    "lyrics = pd.read_csv(\"../data/lyrics.csv\")\n",
    "print(lyrics.head)\n",
    "#print(nltk.FreqDist(['Ragtime', 'gals']).most_common)"
   ]
  },
  {
   "cell_type": "code",
   "execution_count": 14,
   "metadata": {},
   "outputs": [],
   "source": [
    "# Encoding Features \n",
    "labels = {'rock' : 0, 'latin' : 1, 'hiphop' : 2, 'country' : 3, 'punk' : 4}\n",
    "\n",
    "X = np.array([[-1, -1], [-2, -1], [-3, -2], [1, 1], [2, 1], [3, 2]])\n",
    "Y = np.array([1, 1, 1, 2, 2, 2])"
   ]
  },
  {
   "cell_type": "code",
   "execution_count": 12,
   "metadata": {},
   "outputs": [
    {
     "data": {
      "text/plain": [
       "array([2])"
      ]
     },
     "execution_count": 12,
     "metadata": {},
     "output_type": "execute_result"
    }
   ],
   "source": [
    "clf = GaussianNB(priors=None, var_smoothing=1e-09)\n",
    "clf.fit(X, Y)\n",
    "clf.predict([[21, 1.]])\n",
    "\n",
    "#clf_pf = GaussianNB()\n",
    "#clf_pf.partial_fit(X, Y, np.unique(Y))\n",
    "#GaussianNB(priors=None, var_smoothing=1e-09)\n",
    "#print(clf_pf.predict([[-0.8, -1]]))"
   ]
  },
  {
   "cell_type": "code",
   "execution_count": 10,
   "metadata": {},
   "outputs": [
    {
     "name": "stdout",
     "output_type": "stream",
     "text": [
      "<bound method Counter.most_common of FreqDist({'gals': 1, 'Ragtime': 1})>\n"
     ]
    }
   ],
   "source": []
  },
  {
   "cell_type": "code",
   "execution_count": null,
   "metadata": {},
   "outputs": [],
   "source": []
  }
 ],
 "metadata": {
  "kernelspec": {
   "display_name": "Python 3",
   "language": "python",
   "name": "python3"
  },
  "language_info": {
   "codemirror_mode": {
    "name": "ipython",
    "version": 3
   },
   "file_extension": ".py",
   "mimetype": "text/x-python",
   "name": "python",
   "nbconvert_exporter": "python",
   "pygments_lexer": "ipython3",
   "version": "3.5.4"
  }
 },
 "nbformat": 4,
 "nbformat_minor": 2
}
