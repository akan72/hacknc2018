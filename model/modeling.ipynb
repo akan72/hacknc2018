{
 "cells": [
  {
   "cell_type": "code",
   "execution_count": 124,
   "metadata": {},
   "outputs": [
    {
     "name": "stdout",
     "output_type": "stream",
     "text": [
      "[nltk_data] Downloading package stopwords to\n",
      "[nltk_data]     C:\\Users\\lexokan\\AppData\\Roaming\\nltk_data...\n",
      "[nltk_data]   Package stopwords is already up-to-date!\n"
     ]
    }
   ],
   "source": [
    "import lyricsgenius as genius\n",
    "import nltk \n",
    "nltk.download('stopwords')\n",
    "\n",
    "from utils import parser\n",
    "from sklearn.naive_bayes import GaussianNB\n",
    "import spacy\n",
    "\n",
    "import pandas as pd\n",
    "import numpy as np \n",
    "\n",
    "import matplotlib.pyplot as plt\n",
    "%matplotlib inline"
   ]
  },
  {
   "cell_type": "code",
   "execution_count": 125,
   "metadata": {},
   "outputs": [],
   "source": [
    "# Determine word counts w\n",
    "lyrics = pd.read_csv(\"../data/lyrics.csv\")\n",
    "\n",
    "lyricsList = []\n",
    "for i in np.arange(len(lyrics)):\n",
    "    lyricsList.append(lyrics.iloc[i, 1])"
   ]
  },
  {
   "cell_type": "code",
   "execution_count": 126,
   "metadata": {
    "scrolled": false
   },
   "outputs": [
    {
     "ename": "TypeError",
     "evalue": "'set' object does not support indexing",
     "output_type": "error",
     "traceback": [
      "\u001b[1;31m---------------------------------------------------------------------------\u001b[0m",
      "\u001b[1;31mTypeError\u001b[0m                                 Traceback (most recent call last)",
      "\u001b[1;32m<ipython-input-126-c293d8a3a89c>\u001b[0m in \u001b[0;36m<module>\u001b[1;34m()\u001b[0m\n\u001b[0;32m      1\u001b[0m \u001b[0mparsedList\u001b[0m \u001b[1;33m=\u001b[0m \u001b[0mparser\u001b[0m\u001b[1;33m.\u001b[0m\u001b[0mparseLyrics\u001b[0m\u001b[1;33m(\u001b[0m\u001b[0mlyricsList\u001b[0m\u001b[1;33m)\u001b[0m\u001b[1;33m\u001b[0m\u001b[0m\n\u001b[1;32m----> 2\u001b[1;33m \u001b[0mprint\u001b[0m\u001b[1;33m(\u001b[0m\u001b[0mparsedList\u001b[0m\u001b[1;33m[\u001b[0m\u001b[1;36m0\u001b[0m\u001b[1;33m]\u001b[0m\u001b[1;33m)\u001b[0m\u001b[1;33m\u001b[0m\u001b[0m\n\u001b[0m",
      "\u001b[1;31mTypeError\u001b[0m: 'set' object does not support indexing"
     ]
    }
   ],
   "source": [
    "parsedList = parser.parseLyrics(lyricsList)"
   ]
  },
  {
   "cell_type": "code",
   "execution_count": 127,
   "metadata": {},
   "outputs": [
    {
     "name": "stdout",
     "output_type": "stream",
     "text": [
      "{'And', 'bindles', 'This', 'you!', 'goes', 'world', 'pull', '\"This', 'fuck', 'Modesto!\"', 'thank', \"we'd\", 'Without', 'routine', 'Russian', \"fuckin'\", 'addicted', 'Would', 'So', 'else', 'giving', 'Welcome', 'supposed', 'even', '20-something,', 'voice', \"It's\", 'sad,', 'one', 'You', 'popstar', \"I'm\", 'We', 'know', 'love', 'wearing,', 'entertain', 'us', '60', 'bullshit', 'All', \"takin'\", 'clown', 'show', 'money', 'three', 'bad', 'Fall!', 'habit', 'abuse', 'body', 'get', 'holding', 'I', \"buyin'\", 'To', 'job,', 'mission', 'lose', 'Watch', 'you,', 'seriously,', 'pure', 'say', 'dealer', 'So,', 'The', 'German,', 'habits', 'Total', 'Columbian', 'friend', 'wanna', 'old', 'life', 'statement', 'hobby,', 'fed', 'totally', 'amuse', 'give', 'disappoint', 'fucked', 'percent', 'From', 'meet', 'hard', 'rather', 'children', 'cause', 'Fuck', 'uncut', 'makeup', 'easy', 'self-debasement', 'Irish,', 'fans'}\n"
     ]
    }
   ],
   "source": [
    "print(parsedList)"
   ]
  },
  {
   "cell_type": "code",
   "execution_count": 118,
   "metadata": {},
   "outputs": [
    {
     "name": "stdout",
     "output_type": "stream",
     "text": [
      "<bound method Counter.most_common of FreqDist({'gals': 2, 'Ragtime': 1})>\n"
     ]
    }
   ],
   "source": [
    "print(nltk.FreqDist(['Ragtime', 'gals', 'gals']).most_common)"
   ]
  },
  {
   "cell_type": "code",
   "execution_count": 44,
   "metadata": {},
   "outputs": [],
   "source": [
    "# Encoding Features \n",
    "labels = {'rock' : 0, 'latin' : 1, 'hiphop' : 2, 'country' : 3, 'punk' : 4}\n",
    "\n",
    "X = np.array([[-1, -1], [-2, -1], [-3, -2], [1, 1], [2, 1], [3, 2]])\n",
    "Y = np.array([1, 1, 1, 2, 2, 2])"
   ]
  },
  {
   "cell_type": "code",
   "execution_count": 12,
   "metadata": {},
   "outputs": [
    {
     "data": {
      "text/plain": [
       "array([2])"
      ]
     },
     "execution_count": 12,
     "metadata": {},
     "output_type": "execute_result"
    }
   ],
   "source": [
    "clf = GaussianNB(priors=None, var_smoothing=1e-09)\n",
    "clf.fit(X, Y)\n",
    "clf.predict([[21, 1.]])\n",
    "\n",
    "#clf_pf = GaussianNB()\n",
    "#clf_pf.partial_fit(X, Y, np.unique(Y))\n",
    "#GaussianNB(priors=None, var_smoothing=1e-09)\n",
    "#print(clf_pf.predict([[-0.8, -1]]))"
   ]
  }
 ],
 "metadata": {
  "kernelspec": {
   "display_name": "Python 3",
   "language": "python",
   "name": "python3"
  },
  "language_info": {
   "codemirror_mode": {
    "name": "ipython",
    "version": 3
   },
   "file_extension": ".py",
   "mimetype": "text/x-python",
   "name": "python",
   "nbconvert_exporter": "python",
   "pygments_lexer": "ipython3",
   "version": "3.5.4"
  }
 },
 "nbformat": 4,
 "nbformat_minor": 2
}
