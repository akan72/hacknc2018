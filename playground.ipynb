{
 "cells": [
  {
   "cell_type": "code",
   "execution_count": 13,
   "metadata": {
    "collapsed": true
   },
   "outputs": [],
   "source": [
    "import spacy as sp\n",
    "from spacy.tokenizer import Tokenizer\n",
    "import pandas as pd\n",
    "import lyricsgenius as genius\n",
    "api = genius.Genius('Wjaaj3obfMqU5E2v7aIdSS-PyH7CcGCK_-i_tDf6qDxNqGRzc4u5maoWcpi6Pqba')"
   ]
  },
  {
   "cell_type": "code",
   "execution_count": 40,
   "metadata": {
    "collapsed": false
   },
   "outputs": [
    {
     "name": "stdout",
     "output_type": "stream",
     "text": [
      "Searching for \"Chlorine\"...\n",
      "Done.\n",
      "['So,', 'where', 'are', 'you', \"It's\", 'been', 'a', 'little', 'while', \"Sippin'\", 'on', 'straight', 'chlorine', 'Let', 'the', 'vibes', 'slide', 'over', 'me', 'This', 'beat', 'is', 'a', 'chemical,', 'beat', 'is', 'a', 'chemical', 'When', 'I', 'leave,', \"don't\", 'save', 'my', 'seat', \"I'll\", 'be', 'back', 'when', \"it's\", 'all', 'complete', 'The', 'moment', 'is', 'medical,', 'moment', 'is', 'medical', \"Sippin'\", 'on', 'straight', 'chlorine', '1]', \"Lovin'\", 'what', \"I'm\", \"tastin',\", 'ooh', 'Venom', 'on', 'my', 'tongue,', 'dependent', 'at', 'times', 'Poisonous', 'vibrations,', 'ooh', 'Help', 'my', 'body', 'run', \"I'm\", \"runnin'\", 'for', 'my', 'life', \"Runnin'\", 'for', 'my', 'life', \"Sippin'\", 'on', 'straight', 'chlorine', 'Let', 'the', 'vibes', 'slide', 'over', 'me', 'This', 'beat', 'is', 'a', 'chemical,', 'beat', 'is', 'a', 'chemical', 'When', 'I', 'leave,', \"don't\", 'save', 'my', 'seat', \"I'll\", 'be', 'back', 'when', \"it's\", 'all', 'complete', 'The', 'moment', 'is', 'medical,', 'moment', 'is', 'medical', \"Sippin'\", 'on', 'straight', 'chlorine', '2]', 'Fall', 'out', 'of', 'formation,', 'ooh', 'I', 'plan', 'my', 'escape', 'from', 'walls', 'they', 'confined', 'Rebel', 'red', 'carnation,', 'ooh', 'Grows', 'while', 'I', 'decay', \"I'm\", \"runnin'\", 'for', 'my', 'life', \"Runnin'\", 'for', 'my', 'life', 'Yeah,', \"I'm\", \"runnin'\", 'for', 'my', 'life', \"Runnin'\", 'for', 'my', 'life', '3]', 'Hide', 'you', 'in', 'my', 'coat', 'pocket,', 'where', 'I', 'kept', 'my', 'rebel', 'red', 'I', 'felt', 'I', 'was', 'invincible,', 'you', 'wrapped', 'around', 'my', 'head', 'Now', 'different', 'lives', 'I', 'lead,', 'my', 'body', 'lives', 'on', 'lead', 'The', 'last', 'two', 'lines', 'may', 'read', 'incorrect', 'until', 'said', 'The', 'lead', 'is', 'terrible', 'in', 'flavor', 'But', 'now', 'you', 'double', 'as', 'a', 'papermaker', 'I', 'despise', 'you', 'sometimes', 'I', 'love', 'to', 'hate', 'the', 'fight', 'and', 'you', 'in', 'my', 'life', 'is', 'like', \"Sippin'\", 'on', 'straight', 'chlorine', 'Let', 'the', 'vibes', 'slide', 'over', 'me', 'This', 'beat', 'is', 'a', 'chemical,', 'beat', 'is', 'a', 'chemical', 'When', 'I', 'leave,', \"don't\", 'save', 'my', 'seat', \"I'll\", 'be', 'back', 'when', \"it's\", 'all', 'complete', 'The', 'moment', 'is', 'medical,', 'moment', 'is', 'medical', \"Sippin'\", 'on', 'straight', 'chlorine', 'Let', 'the', 'vibe,', 'let', 'the', 'vibe', 'Let', 'the', 'vibe,', 'let', 'the', 'vibe', 'Beat', 'is', 'a', 'chemical,', 'yeah', 'Let', 'the', 'vibe,', 'let', 'the', 'vibe', 'Let', 'the', 'vibe,', 'let', 'the', 'vibe', 'Moment', 'is', 'medical,', 'yeah', \"Sippin'\", 'on', 'straight', 'chlorine', 'Let', 'the', 'vibe,', 'let', 'the', 'vibe', 'Let', 'the', 'vibe,', 'let', 'the', 'vibe', 'Beat', 'is', 'a', 'chemical,', 'yeah', 'Let', 'the', 'vibe,', 'let', 'the', 'vibe', 'Let', 'the', 'vibe,', 'let', 'the', 'vibe', 'Moment', 'is', 'medical,', 'yeah', \"I'm\", 'so', 'sorry,', 'I', 'forgot', 'you', 'Let', 'me', 'catch', 'you', 'up', 'to', 'speed', \"I've\", 'been', 'tested', 'like', 'the', 'end', 'of', 'A', 'weathered', 'flag', \"that's\", 'by', 'the', 'sea', 'Can', 'you', 'build', 'my', 'house', 'with', 'pieces', \"I'm\", 'just', 'a', 'chemical', 'Can', 'you', 'build', 'my', 'house', 'with', 'pieces', \"I'm\", 'just', 'a', 'chemical', 'Can', 'you', 'build', 'my', 'house', 'with', 'pieces', \"I'm\", 'just', 'a', 'chemical', 'Can', 'you', 'build', 'my', 'house', 'with', 'pieces', \"I'm\", 'just', 'a', 'chemical']\n"
     ]
    }
   ],
   "source": [
    "song = api.search_song(\"Chlorine\")\n",
    "word_list = song.lyrics.split()\n",
    "list_copy = word_list\n",
    "for idx in range(len(word_list)):\n",
    "    word = word_list[idx]\n",
    "    \n",
    "    #remove punctuation '?' and '.'\n",
    "    if word.find('?')!= -1:\n",
    "        word_list[idx] = word.replace(\"?\",\"\")\n",
    "    if word.find('.') != -1:\n",
    "        word_list[idx] = word.replace(\".\",\"\")\n",
    "        \n",
    "words_to_remove = []\n",
    "for word in word_list:\n",
    "    #remove all part of song headers i.e. [Intro] or [Chorus]\n",
    "    if word.find('[') != -1:\n",
    "        words_to_remove.append(word)\n",
    "        \n",
    "for word in words_to_remove:\n",
    "    word_list.remove(word)\n",
    "        \n",
    "print(word_list)"
   ]
  },
  {
   "cell_type": "code",
   "execution_count": 25,
   "metadata": {
    "collapsed": false
   },
   "outputs": [
    {
     "name": "stdout",
     "output_type": "stream",
     "text": [
      "<class 'list'>\n"
     ]
    }
   ],
   "source": []
  },
  {
   "cell_type": "code",
   "execution_count": null,
   "metadata": {
    "collapsed": true
   },
   "outputs": [],
   "source": []
  }
 ],
 "metadata": {
  "kernelspec": {
   "display_name": "Python 3",
   "language": "python",
   "name": "python3"
  },
  "language_info": {
   "codemirror_mode": {
    "name": "ipython",
    "version": 3
   },
   "file_extension": ".py",
   "mimetype": "text/x-python",
   "name": "python",
   "nbconvert_exporter": "python",
   "pygments_lexer": "ipython3",
   "version": "3.6.0"
  }
 },
 "nbformat": 4,
 "nbformat_minor": 2
}
